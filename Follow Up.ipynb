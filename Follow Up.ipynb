{
 "cells": [
  {
   "cell_type": "code",
   "execution_count": null,
   "id": "3304f8ce-1e9c-4eb5-8c1f-6a95f20f3857",
   "metadata": {},
   "outputs": [],
   "source": [
    "import pandas as pd\n",
    "import smtplib\n",
    "from email.mime.text import MIMEText\n",
    "from datetime import datetime\n",
    "\n",
    "arquivoFollow = \"Previsao_de_Chegada.xlsx\"\n",
    "\n",
    "abaGeral = \"Geral\"\n",
    "\n",
    "df_dados = pd.read_excel(arquivoFollow,skiprows=1,sheet_name=abaGeral) \n",
    "\n",
    "novoDfFollow = df_dados[['Cód Emp', 'Cód. Parceiro', 'Parceiro', 'Previsão de Entrega','Dt. Negociação', 'Num. Nota']]\n",
    "display(novoDfFollow)\n",
    "\n",
    "#display(df_abaGeral[\"Cód Emp\"])\n",
    "#display(df_abaGeral[\"Cód. Parceiro\"])\n",
    "#display(df_abaGeral[\"Parceiro\"])\n",
    "#display(df_abaGeral[\"Previsão de Entrega\"])\n",
    "#display(df_abaGeral[\"Dt. Negociação\"])\n",
    "#display(df_abaGeral[\"Num. Nota\"])\n",
    "\n",
    "novoDfFollow['Previsão de Entrega'] = pd.to_datetime(novoDfFollow['Previsão de Entrega'], format='%d/%m/%Y')\n",
    "\n",
    "hoje = pd.Timestamp.today().normalize()\n",
    "\n",
    "novoDfFollow['Dias p/ a Data'] = (novoDfFollow['Previsão de Entrega'] - hoje).dt.days \n",
    "\n",
    "novoDfFollow['Status'] = novoDfFollow['Dias p/ a Data'].apply(lambda x: 'Pendente' if x > 0 else f'Atrasado há {-x} dias' if x < 0 else 'Hoje')\n",
    "\n",
    "display(novoDfFollow)\n",
    "\n",
    "#######################\n",
    "\n",
    "arquivoEmails = \"5_Controle Geral.xlsx\"\n",
    "\n",
    "abaFollow = \"Follow Up Fornecedores\"\n",
    "\n",
    "df_dados2 = pd.read_excel(arquivoEmails,skiprows=1,sheet_name=abaFollow) \n",
    "\n",
    "novoDfEmail = df_dados2[['Fornecedor', 'Email:']]\n",
    "display(novoDfEmail)\n",
    "\n",
    "#display(df_abaGeral[\"Cód Emp\"])\n",
    "#display(df_abaGeral[\"Cód. Parceiro\"])"
   ]
  }
 ],
 "metadata": {
  "kernelspec": {
   "display_name": "Python 3 (ipykernel)",
   "language": "python",
   "name": "python3"
  },
  "language_info": {
   "codemirror_mode": {
    "name": "ipython",
    "version": 3
   },
   "file_extension": ".py",
   "mimetype": "text/x-python",
   "name": "python",
   "nbconvert_exporter": "python",
   "pygments_lexer": "ipython3",
   "version": "3.12.7"
  }
 },
 "nbformat": 4,
 "nbformat_minor": 5
}
